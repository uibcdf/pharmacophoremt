{
 "cells": [
  {
   "cell_type": "markdown",
   "id": "c86465e4-01fc-4721-b395-214f312690c3",
   "metadata": {},
   "source": [
    "# Tests PharmacophoreMT"
   ]
  },
  {
   "cell_type": "code",
   "execution_count": 1,
   "id": "b1aaff7f-516b-4116-8d89-bcb9f5a5730f",
   "metadata": {},
   "outputs": [
    {
     "data": {
      "application/vnd.jupyter.widget-view+json": {
       "model_id": "196c4c9594d24b4593b8442901ebd486",
       "version_major": 2,
       "version_minor": 0
      },
      "text/plain": []
     },
     "metadata": {},
     "output_type": "display_data"
    },
    {
     "name": "stderr",
     "output_type": "stream",
     "text": [
      "MOLSYSMT WARNING | UserWarning: pkg_resources is deprecated as an API. See https://setuptools.pypa.io/en/latest/pkg_resources.html. The pkg_resources package is slated for removal as early as 2025-11-30. Refrain from using this package or pin to Setuptools<81.\n",
      "\n"
     ]
    }
   ],
   "source": [
    "import pharmacophoremt as phm"
   ]
  },
  {
   "cell_type": "code",
   "execution_count": null,
   "id": "24db28de-f681-444a-90c6-e804a4967e6d",
   "metadata": {},
   "outputs": [],
   "source": []
  }
 ],
 "metadata": {
  "kernelspec": {
   "display_name": "Python 3 (ipykernel)",
   "language": "python",
   "name": "python3"
  },
  "language_info": {
   "codemirror_mode": {
    "name": "ipython",
    "version": 3
   },
   "file_extension": ".py",
   "mimetype": "text/x-python",
   "name": "python",
   "nbconvert_exporter": "python",
   "pygments_lexer": "ipython3",
   "version": "3.12.11"
  }
 },
 "nbformat": 4,
 "nbformat_minor": 5
}
